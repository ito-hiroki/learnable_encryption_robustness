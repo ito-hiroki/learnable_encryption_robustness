{
 "cells": [
  {
   "cell_type": "code",
   "execution_count": 1,
   "id": "collaborative-sending",
   "metadata": {},
   "outputs": [],
   "source": [
    "import argparse\n",
    "import random\n",
    "import sys\n",
    "import os\n",
    "\n",
    "import numpy as np\n",
    "import torch\n",
    "import torch.backends.cudnn as cudnn\n",
    "import torchvision\n",
    "import torchvision.transforms as transforms\n",
    "from tqdm import tqdm\n",
    "import matplotlib.pyplot as plt\n",
    "from tqdm import tqdm\n",
    "%matplotlib inline\n",
    "\n",
    "sys.path.append(\"../learnable_encryption_robustness/encryption/\")\n",
    "from ELE import blockwise_scramble_ele, block_location_shuffle"
   ]
  },
  {
   "cell_type": "code",
   "execution_count": 2,
   "id": "moving-burns",
   "metadata": {},
   "outputs": [],
   "source": [
    "DATA_PATH = \"../data/\"\n",
    "ENCRYPTION = \"ele\""
   ]
  },
  {
   "cell_type": "code",
   "execution_count": 3,
   "id": "hundred-scholar",
   "metadata": {},
   "outputs": [],
   "source": [
    "transform = transforms.Compose([transforms.ToTensor()])"
   ]
  },
  {
   "cell_type": "code",
   "execution_count": 4,
   "id": "embedded-chinese",
   "metadata": {},
   "outputs": [],
   "source": [
    "to_pil = transforms.ToPILImage()"
   ]
  },
  {
   "cell_type": "code",
   "execution_count": 5,
   "id": "sharing-psychiatry",
   "metadata": {},
   "outputs": [],
   "source": [
    "# mkdir\n",
    "for data_type in [\"train\", \"test\"]:\n",
    "    for key_condition in [\"same_key\", \"diff_key\"]:\n",
    "        os.makedirs(f\"../encrypted_images/{ENCRYPTION}/{data_type}/{key_condition}/\",\n",
    "                    exist_ok=True)"
   ]
  },
  {
   "cell_type": "markdown",
   "id": "steady-louisville",
   "metadata": {},
   "source": [
    "## same key"
   ]
  },
  {
   "cell_type": "code",
   "execution_count": 6,
   "id": "concerned-lesbian",
   "metadata": {},
   "outputs": [],
   "source": [
    "KEY_COND = \"same_key\""
   ]
  },
  {
   "cell_type": "code",
   "execution_count": 7,
   "id": "invisible-anthropology",
   "metadata": {},
   "outputs": [],
   "source": [
    "ds = torchvision.datasets.CIFAR10(\n",
    "    root=DATA_PATH, train=True, transform=transform)"
   ]
  },
  {
   "cell_type": "code",
   "execution_count": 8,
   "id": "behavioral-shanghai",
   "metadata": {
    "scrolled": true
   },
   "outputs": [
    {
     "name": "stderr",
     "output_type": "stream",
     "text": [
      "100%|██████████| 50000/50000 [51:22<00:00, 16.22it/s]  \n"
     ]
    }
   ],
   "source": [
    "for idx in tqdm(range(len(ds))):\n",
    "    img = torch.unsqueeze(ds[idx][0], 0).numpy().astype(\"float32\")\n",
    "    x_stack = blockwise_scramble_ele(img, seed=0)\n",
    "    img = np.transpose(x_stack, (0, 3, 1, 2))\n",
    "    img = block_location_shuffle(img, seed=0)\n",
    "    img = torch.from_numpy(img)\n",
    "    img = to_pil(img[0])\n",
    "    img.save(f\"../encrypted_images/{ENCRYPTION}/train/{KEY_COND}/{idx:05}.png\")"
   ]
  },
  {
   "cell_type": "code",
   "execution_count": 9,
   "id": "spectacular-involvement",
   "metadata": {},
   "outputs": [],
   "source": [
    "ds = torchvision.datasets.CIFAR10(\n",
    "    root=DATA_PATH, train=False, transform=transform)"
   ]
  },
  {
   "cell_type": "code",
   "execution_count": 10,
   "id": "arbitrary-italian",
   "metadata": {},
   "outputs": [
    {
     "name": "stderr",
     "output_type": "stream",
     "text": [
      "100%|██████████| 10000/10000 [09:38<00:00, 17.29it/s]\n"
     ]
    }
   ],
   "source": [
    "for idx in tqdm(range(len(ds))):\n",
    "    img = torch.unsqueeze(ds[idx][0], 0).numpy().astype(\"float32\")\n",
    "    x_stack = blockwise_scramble_ele(img, seed=0)\n",
    "    img = np.transpose(x_stack, (0, 3, 1, 2))\n",
    "    img = block_location_shuffle(img, seed=0)\n",
    "    img = torch.from_numpy(img)\n",
    "    img = to_pil(img[0])\n",
    "    img.save(f\"../encrypted_images/{ENCRYPTION}/test/{KEY_COND}/{idx:05}.png\")"
   ]
  },
  {
   "cell_type": "markdown",
   "id": "invalid-division",
   "metadata": {},
   "source": [
    "## diff key"
   ]
  },
  {
   "cell_type": "code",
   "execution_count": 17,
   "id": "ready-cherry",
   "metadata": {},
   "outputs": [],
   "source": [
    "KEY_COND = \"diff_key\""
   ]
  },
  {
   "cell_type": "code",
   "execution_count": 18,
   "id": "exact-ultimate",
   "metadata": {},
   "outputs": [],
   "source": [
    "ds = torchvision.datasets.CIFAR10(\n",
    "    root=DATA_PATH, train=True, transform=transform)"
   ]
  },
  {
   "cell_type": "code",
   "execution_count": 19,
   "id": "fallen-lincoln",
   "metadata": {},
   "outputs": [
    {
     "name": "stderr",
     "output_type": "stream",
     "text": [
      "100%|██████████| 50000/50000 [59:30<00:00, 14.00it/s]   \n"
     ]
    }
   ],
   "source": [
    "for idx in tqdm(range(len(ds))):\n",
    "    img = torch.unsqueeze(ds[idx][0], 0).numpy().astype(\"float32\")\n",
    "    x_stack = blockwise_scramble_ele(img, seed=idx)\n",
    "    img = np.transpose(x_stack, (0, 3, 1, 2))\n",
    "    img = block_location_shuffle(img, seed=idx)\n",
    "    img = torch.from_numpy(img)\n",
    "    img = to_pil(img[0])\n",
    "    img.save(f\"../encrypted_images/{ENCRYPTION}/train/{KEY_COND}/{idx:05}.png\")"
   ]
  },
  {
   "cell_type": "code",
   "execution_count": 14,
   "id": "commercial-banks",
   "metadata": {},
   "outputs": [],
   "source": [
    "# ds = torchvision.datasets.CIFAR10(\n",
    "#     root=DATA_PATH, train=False, transform=transform)"
   ]
  },
  {
   "cell_type": "code",
   "execution_count": 15,
   "id": "interim-museum",
   "metadata": {},
   "outputs": [],
   "source": [
    "# for idx in tqdm(range(len(ds))):\n",
    "#     img = torch.unsqueeze(ds[idx][0], 0).numpy().astype(\"float32\")\n",
    "#     x_stack = blockwise_scramble_ele(img, seed=idx+50000)\n",
    "#     img = np.transpose(x_stack, (0, 3, 1, 2))\n",
    "#     img = block_location_shuffle(img, seed=0)\n",
    "#     img = torch.from_numpy(img)\n",
    "#     img = to_pil(img[0])\n",
    "#     img.save(f\"../encrypted_images/{ENCRYPTION}/test/{KEY_COND}/{idx:05}.png\")"
   ]
  },
  {
   "cell_type": "code",
   "execution_count": null,
   "id": "white-barbados",
   "metadata": {},
   "outputs": [],
   "source": []
  }
 ],
 "metadata": {
  "kernelspec": {
   "display_name": "Python 3",
   "language": "python",
   "name": "python3"
  },
  "language_info": {
   "codemirror_mode": {
    "name": "ipython",
    "version": 3
   },
   "file_extension": ".py",
   "mimetype": "text/x-python",
   "name": "python",
   "nbconvert_exporter": "python",
   "pygments_lexer": "ipython3",
   "version": "3.7.4"
  }
 },
 "nbformat": 4,
 "nbformat_minor": 5
}
