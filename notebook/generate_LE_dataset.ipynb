{
 "cells": [
  {
   "cell_type": "code",
   "execution_count": 1,
   "id": "choice-muscle",
   "metadata": {},
   "outputs": [],
   "source": [
    "import argparse\n",
    "import random\n",
    "import sys\n",
    "import os\n",
    "\n",
    "import numpy as np\n",
    "import torch\n",
    "import torch.backends.cudnn as cudnn\n",
    "import torchvision\n",
    "import torchvision.transforms as transforms\n",
    "from tqdm import tqdm\n",
    "import matplotlib.pyplot as plt\n",
    "from tqdm import tqdm\n",
    "%matplotlib inline\n",
    "\n",
    "sys.path.append(\"../learnable_encryption_robustness/encryption/\")\n",
    "from LE import blockwise_scramble_le"
   ]
  },
  {
   "cell_type": "code",
   "execution_count": 2,
   "id": "taken-myanmar",
   "metadata": {},
   "outputs": [],
   "source": [
    "DATA_PATH = \"../data/\""
   ]
  },
  {
   "cell_type": "code",
   "execution_count": 3,
   "id": "offensive-gardening",
   "metadata": {},
   "outputs": [],
   "source": [
    "transform = transforms.Compose([transforms.ToTensor()])"
   ]
  },
  {
   "cell_type": "code",
   "execution_count": 4,
   "id": "caring-healthcare",
   "metadata": {},
   "outputs": [],
   "source": [
    "to_pil = transforms.ToPILImage()"
   ]
  },
  {
   "cell_type": "code",
   "execution_count": 5,
   "id": "derived-healthcare",
   "metadata": {},
   "outputs": [],
   "source": [
    "# mkdir\n",
    "for data_type in [\"train\", \"test\"]:\n",
    "    for key_condition in [\"same_key\", \"diff_key\"]:\n",
    "        os.makedirs(f\"../encrypted_images/le/{data_type}/{key_condition}/\",\n",
    "                    exist_ok=True)"
   ]
  },
  {
   "cell_type": "markdown",
   "id": "virgin-evidence",
   "metadata": {},
   "source": [
    "## same key"
   ]
  },
  {
   "cell_type": "code",
   "execution_count": 6,
   "id": "lightweight-chester",
   "metadata": {},
   "outputs": [],
   "source": [
    "train_ds = torchvision.datasets.CIFAR10(\n",
    "    root=DATA_PATH, train=True, transform=transform)"
   ]
  },
  {
   "cell_type": "code",
   "execution_count": 7,
   "id": "dated-glucose",
   "metadata": {
    "scrolled": true
   },
   "outputs": [
    {
     "name": "stderr",
     "output_type": "stream",
     "text": [
      "100%|██████████| 50000/50000 [55:31<00:00, 15.01it/s]  \n"
     ]
    }
   ],
   "source": [
    "for idx in tqdm(range(len(train_ds))):\n",
    "    img = torch.unsqueeze(train_ds[idx][0], 0).numpy().astype(\"float32\")\n",
    "    x_stack = blockwise_scramble_le(img, seed=0)\n",
    "    img = np.transpose(x_stack, (0, 3, 1, 2))\n",
    "    img = torch.from_numpy(img)\n",
    "    img = to_pil(img[0])\n",
    "    img.save(f\"../encrypted_images/le/train/same_key/{idx:05}.png\")"
   ]
  },
  {
   "cell_type": "code",
   "execution_count": 8,
   "id": "regulated-february",
   "metadata": {},
   "outputs": [],
   "source": [
    "test_ds = torchvision.datasets.CIFAR10(\n",
    "    root=DATA_PATH, train=False, transform=transform)"
   ]
  },
  {
   "cell_type": "code",
   "execution_count": 9,
   "id": "decimal-statistics",
   "metadata": {},
   "outputs": [
    {
     "name": "stderr",
     "output_type": "stream",
     "text": [
      "100%|██████████| 10000/10000 [10:57<00:00, 15.22it/s]\n"
     ]
    }
   ],
   "source": [
    "for idx in tqdm(range(len(test_ds))):\n",
    "    img = torch.unsqueeze(test_ds[idx][0], 0).numpy().astype(\"float32\")\n",
    "    x_stack = blockwise_scramble_le(img, seed=0)\n",
    "    img = np.transpose(x_stack, (0, 3, 1, 2))\n",
    "    img = torch.from_numpy(img)\n",
    "    img = to_pil(img[0])\n",
    "    img.save(f\"../encrypted_images/le/test/same_key/{idx:05}.png\")"
   ]
  },
  {
   "cell_type": "markdown",
   "id": "tight-stack",
   "metadata": {},
   "source": [
    "## diff key"
   ]
  },
  {
   "cell_type": "code",
   "execution_count": 8,
   "id": "radical-chess",
   "metadata": {},
   "outputs": [],
   "source": [
    "train_ds = torchvision.datasets.CIFAR10(\n",
    "    root=DATA_PATH, train=True, transform=transform)"
   ]
  },
  {
   "cell_type": "code",
   "execution_count": 9,
   "id": "cheap-instrumentation",
   "metadata": {},
   "outputs": [
    {
     "name": "stderr",
     "output_type": "stream",
     "text": [
      "100%|██████████| 50000/50000 [52:33<00:00, 15.85it/s]  \n"
     ]
    }
   ],
   "source": [
    "for idx in tqdm(range(len(train_ds))):\n",
    "    img = torch.unsqueeze(train_ds[idx][0], 0).numpy().astype(\"float32\")\n",
    "    x_stack = blockwise_scramble_le(img, seed=idx)\n",
    "    img = np.transpose(x_stack, (0, 3, 1, 2))\n",
    "    img = torch.from_numpy(img)\n",
    "    img = to_pil(img[0])\n",
    "    img.save(f\"../encrypted_images/le/train/diff_key/{idx:05}.png\")"
   ]
  },
  {
   "cell_type": "code",
   "execution_count": null,
   "id": "bound-czech",
   "metadata": {},
   "outputs": [],
   "source": [
    "# test_ds = torchvision.datasets.CIFAR10(\n",
    "#     root=DATA_PATH, train=False, transform=transform)"
   ]
  },
  {
   "cell_type": "code",
   "execution_count": null,
   "id": "destroyed-pearl",
   "metadata": {},
   "outputs": [],
   "source": [
    "# for idx in tqdm(range(len(test_ds))):\n",
    "#     img = torch.unsqueeze(test_ds[idx][0], 0).numpy().astype(\"float32\")\n",
    "#     x_stack = blockwise_scramble_le(img, seed=idx+50000)\n",
    "#     img = np.transpose(x_stack, (0, 3, 1, 2))\n",
    "#     img = torch.from_numpy(img)\n",
    "#     img = to_pil(img[0])\n",
    "#     img.save(f\"../encrypted_images/le/test/diff_key/{idx:05}.png\")"
   ]
  }
 ],
 "metadata": {
  "kernelspec": {
   "display_name": "Python 3",
   "language": "python",
   "name": "python3"
  },
  "language_info": {
   "codemirror_mode": {
    "name": "ipython",
    "version": 3
   },
   "file_extension": ".py",
   "mimetype": "text/x-python",
   "name": "python",
   "nbconvert_exporter": "python",
   "pygments_lexer": "ipython3",
   "version": "3.7.4"
  }
 },
 "nbformat": 4,
 "nbformat_minor": 5
}
