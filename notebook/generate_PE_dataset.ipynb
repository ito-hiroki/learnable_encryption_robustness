{
 "cells": [
  {
   "cell_type": "code",
   "execution_count": 1,
   "id": "beneficial-macedonia",
   "metadata": {},
   "outputs": [],
   "source": [
    "import argparse\n",
    "import random\n",
    "import sys\n",
    "import os\n",
    "\n",
    "import numpy as np\n",
    "import torch\n",
    "import torch.backends.cudnn as cudnn\n",
    "import torchvision\n",
    "import torchvision.transforms as transforms\n",
    "from tqdm import tqdm\n",
    "import matplotlib.pyplot as plt\n",
    "from tqdm import tqdm\n",
    "%matplotlib inline\n",
    "\n",
    "sys.path.append(\"../learnable_encryption_robustness/encryption/\")\n",
    "from PE import Warit"
   ]
  },
  {
   "cell_type": "code",
   "execution_count": 2,
   "id": "controlling-classification",
   "metadata": {},
   "outputs": [],
   "source": [
    "DATA_PATH = \"../data/\"\n",
    "ENCRYPTION = \"pe\""
   ]
  },
  {
   "cell_type": "code",
   "execution_count": 3,
   "id": "metallic-composition",
   "metadata": {},
   "outputs": [],
   "source": [
    "transform = transforms.Compose([transforms.ToTensor()])"
   ]
  },
  {
   "cell_type": "code",
   "execution_count": 4,
   "id": "necessary-christmas",
   "metadata": {},
   "outputs": [],
   "source": [
    "to_pil = transforms.ToPILImage()"
   ]
  },
  {
   "cell_type": "code",
   "execution_count": 5,
   "id": "designing-toner",
   "metadata": {},
   "outputs": [],
   "source": [
    "# mkdir\n",
    "for data_type in [\"train\", \"test\"]:\n",
    "    for key_condition in [\"same_key\", \"diff_key\"]:\n",
    "        os.makedirs(f\"../encrypted_images/{ENCRYPTION}/{data_type}/{key_condition}/\",\n",
    "                    exist_ok=True)"
   ]
  },
  {
   "cell_type": "markdown",
   "id": "twelve-alexander",
   "metadata": {},
   "source": [
    "## same key"
   ]
  },
  {
   "cell_type": "code",
   "execution_count": 6,
   "id": "solar-responsibility",
   "metadata": {},
   "outputs": [],
   "source": [
    "KEY_COND = \"same_key\""
   ]
  },
  {
   "cell_type": "code",
   "execution_count": 7,
   "id": "economic-staff",
   "metadata": {},
   "outputs": [],
   "source": [
    "ds = torchvision.datasets.CIFAR10(\n",
    "    root=DATA_PATH, train=True, transform=transform)"
   ]
  },
  {
   "cell_type": "code",
   "execution_count": 8,
   "id": "intense-pregnancy",
   "metadata": {},
   "outputs": [],
   "source": [
    "trans_func = Warit()"
   ]
  },
  {
   "cell_type": "code",
   "execution_count": 9,
   "id": "worse-seafood",
   "metadata": {},
   "outputs": [
    {
     "name": "stderr",
     "output_type": "stream",
     "text": [
      "100%|██████████| 50000/50000 [55:02<00:00, 15.14it/s]   \n"
     ]
    }
   ],
   "source": [
    "for idx in tqdm(range(len(ds))):\n",
    "    img = torch.unsqueeze(ds[idx][0], 0).numpy().astype(\"float32\")\n",
    "    img = trans_func.encrypt_np(img, key=0)\n",
    "    img = torch.from_numpy(img)\n",
    "    img = to_pil(img[0])\n",
    "    img.save(f\"../encrypted_images/{ENCRYPTION}/train/{KEY_COND}/{idx:05}.png\")"
   ]
  },
  {
   "cell_type": "code",
   "execution_count": 10,
   "id": "precise-romantic",
   "metadata": {},
   "outputs": [],
   "source": [
    "ds = torchvision.datasets.CIFAR10(\n",
    "    root=DATA_PATH, train=False, transform=transform)"
   ]
  },
  {
   "cell_type": "code",
   "execution_count": 11,
   "id": "imperial-kidney",
   "metadata": {},
   "outputs": [
    {
     "name": "stderr",
     "output_type": "stream",
     "text": [
      "100%|██████████| 10000/10000 [07:57<00:00, 20.93it/s]\n"
     ]
    }
   ],
   "source": [
    "for idx in tqdm(range(len(ds))):\n",
    "    img = torch.unsqueeze(ds[idx][0], 0).numpy().astype(\"float32\")\n",
    "    img = trans_func.encrypt_np(img, key=0)\n",
    "    img = torch.from_numpy(img)\n",
    "    img = to_pil(img[0])\n",
    "    img.save(f\"../encrypted_images/{ENCRYPTION}/test/{KEY_COND}/{idx:05}.png\")"
   ]
  },
  {
   "cell_type": "markdown",
   "id": "special-courage",
   "metadata": {},
   "source": [
    "## diff key"
   ]
  },
  {
   "cell_type": "code",
   "execution_count": 12,
   "id": "superior-madonna",
   "metadata": {},
   "outputs": [],
   "source": [
    "KEY_COND = \"diff_key\""
   ]
  },
  {
   "cell_type": "code",
   "execution_count": 13,
   "id": "fitted-flood",
   "metadata": {},
   "outputs": [],
   "source": [
    "ds = torchvision.datasets.CIFAR10(\n",
    "    root=DATA_PATH, train=True, transform=transform)"
   ]
  },
  {
   "cell_type": "code",
   "execution_count": 14,
   "id": "rolled-chorus",
   "metadata": {},
   "outputs": [
    {
     "name": "stderr",
     "output_type": "stream",
     "text": [
      "100%|██████████| 50000/50000 [44:28<00:00, 18.74it/s]  \n"
     ]
    }
   ],
   "source": [
    "for idx in tqdm(range(len(ds))):\n",
    "    img = torch.unsqueeze(ds[idx][0], 0).numpy().astype(\"float32\")\n",
    "    img = trans_func.encrypt_np(img, key=idx)\n",
    "    img = torch.from_numpy(img)\n",
    "    img = to_pil(img[0])\n",
    "    img.save(f\"../encrypted_images/{ENCRYPTION}/train/{KEY_COND}/{idx:05}.png\")"
   ]
  },
  {
   "cell_type": "code",
   "execution_count": null,
   "id": "plastic-consideration",
   "metadata": {},
   "outputs": [],
   "source": []
  }
 ],
 "metadata": {
  "kernelspec": {
   "display_name": "Python 3",
   "language": "python",
   "name": "python3"
  },
  "language_info": {
   "codemirror_mode": {
    "name": "ipython",
    "version": 3
   },
   "file_extension": ".py",
   "mimetype": "text/x-python",
   "name": "python",
   "nbconvert_exporter": "python",
   "pygments_lexer": "ipython3",
   "version": "3.7.4"
  }
 },
 "nbformat": 4,
 "nbformat_minor": 5
}
