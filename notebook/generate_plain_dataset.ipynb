{
 "cells": [
  {
   "cell_type": "code",
   "execution_count": 1,
   "id": "incorrect-planning",
   "metadata": {},
   "outputs": [],
   "source": [
    "import argparse\n",
    "import random\n",
    "import sys\n",
    "import os\n",
    "\n",
    "import numpy as np\n",
    "import torch\n",
    "import torch.backends.cudnn as cudnn\n",
    "import torchvision\n",
    "import torchvision.transforms as transforms\n",
    "from tqdm import tqdm\n",
    "import matplotlib.pyplot as plt\n",
    "from tqdm import tqdm\n",
    "%matplotlib inline"
   ]
  },
  {
   "cell_type": "code",
   "execution_count": 2,
   "id": "strange-civilian",
   "metadata": {},
   "outputs": [],
   "source": [
    "DATA_PATH = \"../data/\"\n",
    "ENCRYPTION = \"plain\""
   ]
  },
  {
   "cell_type": "code",
   "execution_count": 3,
   "id": "vertical-individual",
   "metadata": {},
   "outputs": [],
   "source": [
    "# mkdir\n",
    "for data_type in [\"train\", \"test\"]:\n",
    "    os.makedirs(f\"../encrypted_images/{ENCRYPTION}/{data_type}/\",\n",
    "                exist_ok=True)"
   ]
  },
  {
   "cell_type": "code",
   "execution_count": 4,
   "id": "comic-shower",
   "metadata": {},
   "outputs": [],
   "source": [
    "ds = torchvision.datasets.CIFAR10(root=DATA_PATH, train=True)"
   ]
  },
  {
   "cell_type": "code",
   "execution_count": 5,
   "id": "stable-recording",
   "metadata": {},
   "outputs": [
    {
     "name": "stderr",
     "output_type": "stream",
     "text": [
      "100%|██████████| 50000/50000 [44:23<00:00, 18.77it/s]  \n"
     ]
    }
   ],
   "source": [
    "for idx in tqdm(range(len(ds))):\n",
    "    img = ds[idx][0]\n",
    "    img.save(f\"../encrypted_images/{ENCRYPTION}/train/{idx:05}.png\")"
   ]
  },
  {
   "cell_type": "code",
   "execution_count": 6,
   "id": "victorian-estonia",
   "metadata": {},
   "outputs": [],
   "source": [
    "ds = torchvision.datasets.CIFAR10(root=DATA_PATH, train=False)"
   ]
  },
  {
   "cell_type": "code",
   "execution_count": 7,
   "id": "finite-sector",
   "metadata": {},
   "outputs": [
    {
     "name": "stderr",
     "output_type": "stream",
     "text": [
      "100%|██████████| 10000/10000 [08:21<00:00, 19.96it/s]\n"
     ]
    }
   ],
   "source": [
    "for idx in tqdm(range(len(ds))):\n",
    "    img = ds[idx][0]\n",
    "    img.save(f\"../encrypted_images/{ENCRYPTION}/test/{idx:05}.png\")"
   ]
  }
 ],
 "metadata": {
  "kernelspec": {
   "display_name": "Python 3",
   "language": "python",
   "name": "python3"
  },
  "language_info": {
   "codemirror_mode": {
    "name": "ipython",
    "version": 3
   },
   "file_extension": ".py",
   "mimetype": "text/x-python",
   "name": "python",
   "nbconvert_exporter": "python",
   "pygments_lexer": "ipython3",
   "version": "3.7.4"
  }
 },
 "nbformat": 4,
 "nbformat_minor": 5
}
