{
 "cells": [
  {
   "cell_type": "code",
   "execution_count": 1,
   "id": "serial-stack",
   "metadata": {},
   "outputs": [],
   "source": [
    "import argparse\n",
    "import random\n",
    "import sys\n",
    "import os\n",
    "\n",
    "import numpy as np\n",
    "import torch\n",
    "import torch.backends.cudnn as cudnn\n",
    "import torchvision\n",
    "import torchvision.transforms as transforms\n",
    "from tqdm import tqdm\n",
    "import matplotlib.pyplot as plt\n",
    "from tqdm import tqdm\n",
    "%matplotlib inline\n",
    "\n",
    "sys.path.append(\"../learnable_encryption_robustness/encryption/\")\n",
    "from EtC import EtC_encryption"
   ]
  },
  {
   "cell_type": "code",
   "execution_count": 2,
   "id": "reasonable-tolerance",
   "metadata": {},
   "outputs": [],
   "source": [
    "DATA_PATH = \"../data/\"\n",
    "ENCRYPTION = \"etc\""
   ]
  },
  {
   "cell_type": "code",
   "execution_count": 3,
   "id": "remarkable-donor",
   "metadata": {},
   "outputs": [],
   "source": [
    "transform = transforms.Compose([transforms.ToTensor()])"
   ]
  },
  {
   "cell_type": "code",
   "execution_count": 4,
   "id": "buried-restriction",
   "metadata": {},
   "outputs": [],
   "source": [
    "to_pil = transforms.ToPILImage()"
   ]
  },
  {
   "cell_type": "code",
   "execution_count": 5,
   "id": "characteristic-philadelphia",
   "metadata": {},
   "outputs": [],
   "source": [
    "# mkdir\n",
    "for data_type in [\"train\", \"test\"]:\n",
    "    for key_condition in [\"same_key\", \"diff_key\"]:\n",
    "        os.makedirs(f\"../encrypted_images/{ENCRYPTION}/{data_type}/{key_condition}/\",\n",
    "                    exist_ok=True)"
   ]
  },
  {
   "cell_type": "markdown",
   "id": "nuclear-aruba",
   "metadata": {},
   "source": [
    "## same key"
   ]
  },
  {
   "cell_type": "code",
   "execution_count": 6,
   "id": "liberal-level",
   "metadata": {},
   "outputs": [],
   "source": [
    "KEY_COND = \"same_key\""
   ]
  },
  {
   "cell_type": "code",
   "execution_count": 7,
   "id": "instrumental-healing",
   "metadata": {},
   "outputs": [],
   "source": [
    "ds = torchvision.datasets.CIFAR10(\n",
    "    root=DATA_PATH, train=True, transform=transform)"
   ]
  },
  {
   "cell_type": "code",
   "execution_count": 8,
   "id": "white-browser",
   "metadata": {},
   "outputs": [
    {
     "name": "stderr",
     "output_type": "stream",
     "text": [
      "100%|██████████| 50000/50000 [50:52<00:00, 16.38it/s]  \n"
     ]
    }
   ],
   "source": [
    "for idx in tqdm(range(len(ds))):\n",
    "    img = torch.unsqueeze(ds[idx][0], 0).numpy().astype(\"float32\")\n",
    "    img = EtC_encryption(img, seed=0)\n",
    "    img = to_pil(img[0])\n",
    "    img.save(f\"../encrypted_images/{ENCRYPTION}/train/{KEY_COND}/{idx:05}.png\")"
   ]
  },
  {
   "cell_type": "code",
   "execution_count": 9,
   "id": "attempted-belfast",
   "metadata": {},
   "outputs": [],
   "source": [
    "ds = torchvision.datasets.CIFAR10(\n",
    "    root=DATA_PATH, train=False, transform=transform)"
   ]
  },
  {
   "cell_type": "code",
   "execution_count": 10,
   "id": "crude-progressive",
   "metadata": {},
   "outputs": [
    {
     "name": "stderr",
     "output_type": "stream",
     "text": [
      "100%|██████████| 10000/10000 [09:23<00:00, 17.75it/s]\n"
     ]
    }
   ],
   "source": [
    "for idx in tqdm(range(len(ds))):\n",
    "    img = torch.unsqueeze(ds[idx][0], 0).numpy().astype(\"float32\")\n",
    "    img = EtC_encryption(img, seed=0)\n",
    "    img = to_pil(img[0])\n",
    "    img.save(f\"../encrypted_images/{ENCRYPTION}/test/{KEY_COND}/{idx:05}.png\")"
   ]
  },
  {
   "cell_type": "markdown",
   "id": "amateur-relief",
   "metadata": {},
   "source": [
    "## diff key"
   ]
  },
  {
   "cell_type": "code",
   "execution_count": 14,
   "id": "annual-intervention",
   "metadata": {},
   "outputs": [],
   "source": [
    "KEY_COND = \"diff_key\""
   ]
  },
  {
   "cell_type": "code",
   "execution_count": 15,
   "id": "treated-sellers",
   "metadata": {},
   "outputs": [],
   "source": [
    "ds = torchvision.datasets.CIFAR10(\n",
    "    root=DATA_PATH, train=True, transform=transform)"
   ]
  },
  {
   "cell_type": "code",
   "execution_count": 16,
   "id": "canadian-peoples",
   "metadata": {},
   "outputs": [
    {
     "name": "stderr",
     "output_type": "stream",
     "text": [
      "100%|██████████| 50000/50000 [56:39<00:00, 14.71it/s]   \n"
     ]
    }
   ],
   "source": [
    "for idx in tqdm(range(len(ds))):\n",
    "    img = torch.unsqueeze(ds[idx][0], 0).numpy().astype(\"float32\")\n",
    "    img = EtC_encryption(img, seed=idx)\n",
    "    img = to_pil(img[0])\n",
    "    img.save(f\"../encrypted_images/{ENCRYPTION}/train/{KEY_COND}/{idx:05}.png\")"
   ]
  },
  {
   "cell_type": "code",
   "execution_count": null,
   "id": "neutral-absorption",
   "metadata": {},
   "outputs": [],
   "source": []
  },
  {
   "cell_type": "code",
   "execution_count": null,
   "id": "laughing-leadership",
   "metadata": {},
   "outputs": [],
   "source": []
  },
  {
   "cell_type": "code",
   "execution_count": null,
   "id": "legitimate-glucose",
   "metadata": {},
   "outputs": [],
   "source": []
  },
  {
   "cell_type": "code",
   "execution_count": null,
   "id": "lasting-polls",
   "metadata": {},
   "outputs": [],
   "source": []
  },
  {
   "cell_type": "code",
   "execution_count": null,
   "id": "extraordinary-oxford",
   "metadata": {},
   "outputs": [],
   "source": []
  }
 ],
 "metadata": {
  "kernelspec": {
   "display_name": "Python 3",
   "language": "python",
   "name": "python3"
  },
  "language_info": {
   "codemirror_mode": {
    "name": "ipython",
    "version": 3
   },
   "file_extension": ".py",
   "mimetype": "text/x-python",
   "name": "python",
   "nbconvert_exporter": "python",
   "pygments_lexer": "ipython3",
   "version": "3.7.4"
  }
 },
 "nbformat": 4,
 "nbformat_minor": 5
}
